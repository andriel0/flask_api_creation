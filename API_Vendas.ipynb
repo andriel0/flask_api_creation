{
 "cells": [
  {
   "cell_type": "code",
   "execution_count": null,
   "id": "4589f16f",
   "metadata": {},
   "outputs": [],
   "source": [
    "from flask import Flask\n",
    "import pandas as pd\n",
    "\n",
    "app = Flask(__name__)\n",
    "tabela = pd.read_excel(\"Vendas - Dez.xlsx\")\n",
    "\n",
    "@app.route(\"/\") # https://vendasapi.andriel0.repl.co/\n",
    "def dar_boas_vindas():\n",
    "  dic_welcome = {\"Para acessar mais informacoes da base de dados, vou ajuda-los\": {\"Faturamento total\" : \"https://vendasapi.andriel0.repl.co/faturamento_total\", \"Vendas de cada produto\": \"https://vendasapi.andriel0.repl.co/vendas/produtos\", \"Vendas de um produto especifico(coloque o nome do produto no lugar de <produto>)\" : \"https://vendasapi.andriel0.repl.co/vendas/produtos/<produto>\"}}\n",
    "  return dic_welcome\n",
    "\n",
    "\n",
    "@app.route(\"/faturamento_total\") # https://vendasapi.andriel0.repl.co/faturamento_total\n",
    "def mostrar_faturamento():\n",
    "    faturamento_total = float(tabela[\"Valor Final\"].sum())\n",
    "    return {\"faturamento\": faturamento_total}\n",
    "\n",
    "@app.route(\"/vendas/produtos\") # https://vendasapi.andriel0.repl.co/vendas/produtos\n",
    "def vendas_produtos(): \n",
    "    tabela_vendas_produtos = tabela[[\"Produto\", \"Valor Final\"]].groupby(\"Produto\").sum()\n",
    "    dic_vendas_produtos = tabela_vendas_produtos.to_dict()\n",
    "    return dic_vendas_produtos\n",
    "\n",
    "@app.route(\"/vendas/produtos/<produto>\") # https://vendasapi.andriel0.repl.co/vendas/produtos/<produto>\n",
    "def fat_produto(produto): \n",
    "    tabela_vendas_produtos = tabela[[\"Produto\", \"Valor Final\"]].groupby(\"Produto\").sum()\n",
    "    if produto in tabela_vendas_produtos.index:\n",
    "        vendas_prod_esp = tabela_vendas_produtos.loc[produto]\n",
    "        dic_vendas_prod_esp = vendas_prod_esp.to_dict()\n",
    "        return dic_vendas_prod_esp\n",
    "    else:\n",
    "        return {produto: \"Não existe esse produto no nosso banco\"}\n",
    "    \n",
    "app.run(host=\"0.0.0.0\")"
   ]
  }
 ],
 "metadata": {
  "kernelspec": {
   "display_name": "Python 3 (ipykernel)",
   "language": "python",
   "name": "python3"
  },
  "language_info": {
   "codemirror_mode": {
    "name": "ipython",
    "version": 3
   },
   "file_extension": ".py",
   "mimetype": "text/x-python",
   "name": "python",
   "nbconvert_exporter": "python",
   "pygments_lexer": "ipython3",
   "version": "3.9.12"
  }
 },
 "nbformat": 4,
 "nbformat_minor": 5
}
